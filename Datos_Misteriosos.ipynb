{
  "nbformat": 4,
  "nbformat_minor": 0,
  "metadata": {
    "colab": {
      "provenance": []
    },
    "kernelspec": {
      "name": "python3",
      "display_name": "Python 3"
    }
  },
  "cells": [
    {
      "cell_type": "code",
      "metadata": {
        "id": "b8bSaPQetkrW"
      },
      "source": [],
      "execution_count": null,
      "outputs": []
    },
    {
      "cell_type": "markdown",
      "metadata": {
        "id": "bR-hirMpxKrG"
      },
      "source": [
        "#**Partículas de Ozono en la Ciudad de México**\n",
        "##Datos Misteriosos\n",
        "## _Juan-Campos A., Martínez-Rivas L., Sánchez-Juárez P._\n",
        "Facultad de Ciencias, Universidad Nacional Autónoma de México, Ciudad Universitaria, Cto. Exterior s/n, Coyoacán, CDMX, México C.P. 04510\n",
        "\n",
        "\n",
        "\n",
        "\n"
      ]
    },
    {
      "cell_type": "markdown",
      "metadata": {
        "id": "jJyMY1_IErUn"
      },
      "source": [
        "## Introducción\n",
        "\n",
        "\n",
        "El presente proyecto muestra cómo realizar el análisis de una base de datos desde cero  utilizando la biblioteca Pandas en Python. El análisis de datos es una herramienta escencial en el ámbito científico y aprender a utilizar programas que faciliten esta tarea es sumamente útil, además de que amplia la perspectiva de la información que obtenemos por métodos sencillos."
      ]
    },
    {
      "cell_type": "markdown",
      "metadata": {
        "id": "N2Zht0XZ7qrA"
      },
      "source": [
        "Para iniciar nuestro análisis de datos importamos la biblioteca pandas."
      ]
    },
    {
      "cell_type": "code",
      "metadata": {
        "id": "TRkjSRQ97uxG"
      },
      "source": [
        "import pandas as pd\n"
      ],
      "execution_count": null,
      "outputs": []
    },
    {
      "cell_type": "markdown",
      "metadata": {
        "id": "H2TB_IVC8Eo8"
      },
      "source": [
        "Abrimos un archivo de texto usando el método \"pd.read_csv\"."
      ]
    },
    {
      "cell_type": "code",
      "metadata": {
        "id": "XaxxqX3J8Hxx",
        "outputId": "33fce692-7693-47ea-9a64-3d53a9e41208",
        "colab": {
          "base_uri": "https://localhost:8080/",
          "height": 287
        }
      },
      "source": [
        "data = pd.read_csv('archivo02.csv', sep=\",\", header=4 , na_values=-99)"
      ],
      "execution_count": null,
      "outputs": [
        {
          "output_type": "error",
          "ename": "FileNotFoundError",
          "evalue": "[Errno 2] No such file or directory: 'archivo02.csv'",
          "traceback": [
            "\u001b[0;31m---------------------------------------------------------------------------\u001b[0m",
            "\u001b[0;31mFileNotFoundError\u001b[0m                         Traceback (most recent call last)",
            "\u001b[0;32m<ipython-input-2-b3f5ad850410>\u001b[0m in \u001b[0;36m<cell line: 1>\u001b[0;34m()\u001b[0m\n\u001b[0;32m----> 1\u001b[0;31m \u001b[0mdata\u001b[0m \u001b[0;34m=\u001b[0m \u001b[0mpd\u001b[0m\u001b[0;34m.\u001b[0m\u001b[0mread_csv\u001b[0m\u001b[0;34m(\u001b[0m\u001b[0;34m'archivo02.csv'\u001b[0m\u001b[0;34m,\u001b[0m \u001b[0msep\u001b[0m\u001b[0;34m=\u001b[0m\u001b[0;34m\",\"\u001b[0m\u001b[0;34m,\u001b[0m \u001b[0mheader\u001b[0m\u001b[0;34m=\u001b[0m\u001b[0;36m4\u001b[0m \u001b[0;34m,\u001b[0m \u001b[0mna_values\u001b[0m\u001b[0;34m=\u001b[0m\u001b[0;34m-\u001b[0m\u001b[0;36m99\u001b[0m\u001b[0;34m)\u001b[0m\u001b[0;34m\u001b[0m\u001b[0;34m\u001b[0m\u001b[0m\n\u001b[0m",
            "\u001b[0;32m/usr/local/lib/python3.10/dist-packages/pandas/io/parsers/readers.py\u001b[0m in \u001b[0;36mread_csv\u001b[0;34m(filepath_or_buffer, sep, delimiter, header, names, index_col, usecols, dtype, engine, converters, true_values, false_values, skipinitialspace, skiprows, skipfooter, nrows, na_values, keep_default_na, na_filter, verbose, skip_blank_lines, parse_dates, infer_datetime_format, keep_date_col, date_parser, date_format, dayfirst, cache_dates, iterator, chunksize, compression, thousands, decimal, lineterminator, quotechar, quoting, doublequote, escapechar, comment, encoding, encoding_errors, dialect, on_bad_lines, delim_whitespace, low_memory, memory_map, float_precision, storage_options, dtype_backend)\u001b[0m\n\u001b[1;32m    910\u001b[0m     \u001b[0mkwds\u001b[0m\u001b[0;34m.\u001b[0m\u001b[0mupdate\u001b[0m\u001b[0;34m(\u001b[0m\u001b[0mkwds_defaults\u001b[0m\u001b[0;34m)\u001b[0m\u001b[0;34m\u001b[0m\u001b[0;34m\u001b[0m\u001b[0m\n\u001b[1;32m    911\u001b[0m \u001b[0;34m\u001b[0m\u001b[0m\n\u001b[0;32m--> 912\u001b[0;31m     \u001b[0;32mreturn\u001b[0m \u001b[0m_read\u001b[0m\u001b[0;34m(\u001b[0m\u001b[0mfilepath_or_buffer\u001b[0m\u001b[0;34m,\u001b[0m \u001b[0mkwds\u001b[0m\u001b[0;34m)\u001b[0m\u001b[0;34m\u001b[0m\u001b[0;34m\u001b[0m\u001b[0m\n\u001b[0m\u001b[1;32m    913\u001b[0m \u001b[0;34m\u001b[0m\u001b[0m\n\u001b[1;32m    914\u001b[0m \u001b[0;34m\u001b[0m\u001b[0m\n",
            "\u001b[0;32m/usr/local/lib/python3.10/dist-packages/pandas/io/parsers/readers.py\u001b[0m in \u001b[0;36m_read\u001b[0;34m(filepath_or_buffer, kwds)\u001b[0m\n\u001b[1;32m    575\u001b[0m \u001b[0;34m\u001b[0m\u001b[0m\n\u001b[1;32m    576\u001b[0m     \u001b[0;31m# Create the parser.\u001b[0m\u001b[0;34m\u001b[0m\u001b[0;34m\u001b[0m\u001b[0m\n\u001b[0;32m--> 577\u001b[0;31m     \u001b[0mparser\u001b[0m \u001b[0;34m=\u001b[0m \u001b[0mTextFileReader\u001b[0m\u001b[0;34m(\u001b[0m\u001b[0mfilepath_or_buffer\u001b[0m\u001b[0;34m,\u001b[0m \u001b[0;34m**\u001b[0m\u001b[0mkwds\u001b[0m\u001b[0;34m)\u001b[0m\u001b[0;34m\u001b[0m\u001b[0;34m\u001b[0m\u001b[0m\n\u001b[0m\u001b[1;32m    578\u001b[0m \u001b[0;34m\u001b[0m\u001b[0m\n\u001b[1;32m    579\u001b[0m     \u001b[0;32mif\u001b[0m \u001b[0mchunksize\u001b[0m \u001b[0;32mor\u001b[0m \u001b[0miterator\u001b[0m\u001b[0;34m:\u001b[0m\u001b[0;34m\u001b[0m\u001b[0;34m\u001b[0m\u001b[0m\n",
            "\u001b[0;32m/usr/local/lib/python3.10/dist-packages/pandas/io/parsers/readers.py\u001b[0m in \u001b[0;36m__init__\u001b[0;34m(self, f, engine, **kwds)\u001b[0m\n\u001b[1;32m   1405\u001b[0m \u001b[0;34m\u001b[0m\u001b[0m\n\u001b[1;32m   1406\u001b[0m         \u001b[0mself\u001b[0m\u001b[0;34m.\u001b[0m\u001b[0mhandles\u001b[0m\u001b[0;34m:\u001b[0m \u001b[0mIOHandles\u001b[0m \u001b[0;34m|\u001b[0m \u001b[0;32mNone\u001b[0m \u001b[0;34m=\u001b[0m \u001b[0;32mNone\u001b[0m\u001b[0;34m\u001b[0m\u001b[0;34m\u001b[0m\u001b[0m\n\u001b[0;32m-> 1407\u001b[0;31m         \u001b[0mself\u001b[0m\u001b[0;34m.\u001b[0m\u001b[0m_engine\u001b[0m \u001b[0;34m=\u001b[0m \u001b[0mself\u001b[0m\u001b[0;34m.\u001b[0m\u001b[0m_make_engine\u001b[0m\u001b[0;34m(\u001b[0m\u001b[0mf\u001b[0m\u001b[0;34m,\u001b[0m \u001b[0mself\u001b[0m\u001b[0;34m.\u001b[0m\u001b[0mengine\u001b[0m\u001b[0;34m)\u001b[0m\u001b[0;34m\u001b[0m\u001b[0;34m\u001b[0m\u001b[0m\n\u001b[0m\u001b[1;32m   1408\u001b[0m \u001b[0;34m\u001b[0m\u001b[0m\n\u001b[1;32m   1409\u001b[0m     \u001b[0;32mdef\u001b[0m \u001b[0mclose\u001b[0m\u001b[0;34m(\u001b[0m\u001b[0mself\u001b[0m\u001b[0;34m)\u001b[0m \u001b[0;34m->\u001b[0m \u001b[0;32mNone\u001b[0m\u001b[0;34m:\u001b[0m\u001b[0;34m\u001b[0m\u001b[0;34m\u001b[0m\u001b[0m\n",
            "\u001b[0;32m/usr/local/lib/python3.10/dist-packages/pandas/io/parsers/readers.py\u001b[0m in \u001b[0;36m_make_engine\u001b[0;34m(self, f, engine)\u001b[0m\n\u001b[1;32m   1659\u001b[0m                 \u001b[0;32mif\u001b[0m \u001b[0;34m\"b\"\u001b[0m \u001b[0;32mnot\u001b[0m \u001b[0;32min\u001b[0m \u001b[0mmode\u001b[0m\u001b[0;34m:\u001b[0m\u001b[0;34m\u001b[0m\u001b[0;34m\u001b[0m\u001b[0m\n\u001b[1;32m   1660\u001b[0m                     \u001b[0mmode\u001b[0m \u001b[0;34m+=\u001b[0m \u001b[0;34m\"b\"\u001b[0m\u001b[0;34m\u001b[0m\u001b[0;34m\u001b[0m\u001b[0m\n\u001b[0;32m-> 1661\u001b[0;31m             self.handles = get_handle(\n\u001b[0m\u001b[1;32m   1662\u001b[0m                 \u001b[0mf\u001b[0m\u001b[0;34m,\u001b[0m\u001b[0;34m\u001b[0m\u001b[0;34m\u001b[0m\u001b[0m\n\u001b[1;32m   1663\u001b[0m                 \u001b[0mmode\u001b[0m\u001b[0;34m,\u001b[0m\u001b[0;34m\u001b[0m\u001b[0;34m\u001b[0m\u001b[0m\n",
            "\u001b[0;32m/usr/local/lib/python3.10/dist-packages/pandas/io/common.py\u001b[0m in \u001b[0;36mget_handle\u001b[0;34m(path_or_buf, mode, encoding, compression, memory_map, is_text, errors, storage_options)\u001b[0m\n\u001b[1;32m    857\u001b[0m         \u001b[0;32mif\u001b[0m \u001b[0mioargs\u001b[0m\u001b[0;34m.\u001b[0m\u001b[0mencoding\u001b[0m \u001b[0;32mand\u001b[0m \u001b[0;34m\"b\"\u001b[0m \u001b[0;32mnot\u001b[0m \u001b[0;32min\u001b[0m \u001b[0mioargs\u001b[0m\u001b[0;34m.\u001b[0m\u001b[0mmode\u001b[0m\u001b[0;34m:\u001b[0m\u001b[0;34m\u001b[0m\u001b[0;34m\u001b[0m\u001b[0m\n\u001b[1;32m    858\u001b[0m             \u001b[0;31m# Encoding\u001b[0m\u001b[0;34m\u001b[0m\u001b[0;34m\u001b[0m\u001b[0m\n\u001b[0;32m--> 859\u001b[0;31m             handle = open(\n\u001b[0m\u001b[1;32m    860\u001b[0m                 \u001b[0mhandle\u001b[0m\u001b[0;34m,\u001b[0m\u001b[0;34m\u001b[0m\u001b[0;34m\u001b[0m\u001b[0m\n\u001b[1;32m    861\u001b[0m                 \u001b[0mioargs\u001b[0m\u001b[0;34m.\u001b[0m\u001b[0mmode\u001b[0m\u001b[0;34m,\u001b[0m\u001b[0;34m\u001b[0m\u001b[0;34m\u001b[0m\u001b[0m\n",
            "\u001b[0;31mFileNotFoundError\u001b[0m: [Errno 2] No such file or directory: 'archivo02.csv'"
          ]
        }
      ]
    },
    {
      "cell_type": "markdown",
      "metadata": {
        "id": "tO86cwG78SGr"
      },
      "source": [
        "Para saber las generalidades de \"data\" utilizamos el comando data.describe"
      ]
    },
    {
      "cell_type": "code",
      "metadata": {
        "id": "x7nQluT08oyD"
      },
      "source": [
        "data.describe()"
      ],
      "execution_count": null,
      "outputs": []
    },
    {
      "cell_type": "markdown",
      "metadata": {
        "id": "6w-2lQUXAK8n"
      },
      "source": [
        "Tabla 1. Descripción general de los datos de monitoreo atmosférico."
      ]
    },
    {
      "cell_type": "markdown",
      "metadata": {
        "id": "iq0gc4HM83Mb"
      },
      "source": [
        "Si entramos al archivo de excel podemos ver que nuestros datos provienen de la red automática de monitoreo atmosférico de la ciudad de México. Al ejecutar la función data.describe()aparece una tabla.\n",
        "El archivo tiene 4 lineas de encabezado y un valor nulo de -99.\n",
        "Hay dos columnas AJU y MGH, en el documento de excel nos dicen que estás dos son estaciones de monitoreo de O3.\n"
      ]
    },
    {
      "cell_type": "markdown",
      "metadata": {
        "id": "Q-02Z4o4c-mU"
      },
      "source": [
        "La tabla 1 nos muestra el conteo de partículas de ozono por estación de monitoreo, la desviación estandar, promedio, valores máximos y mínimos, y diversos porcentajes de las mediciones obtenidas."
      ]
    },
    {
      "cell_type": "markdown",
      "metadata": {
        "id": "nvJKRJ7X-VjD"
      },
      "source": [
        "Las mediciones de Ozono están reportadas en partes por billon (ppb).\n",
        "Estas unidades no corresponden al sistema internacional de unidades. Aun cuando el uso de términos tales como partes por millón (ppm), partes por billón (ppb) y partes por trillón (ppt) tienen cierto uso en el lenguaje de la composición química, estos términos no se han definido formalmente y no existe aún un consenso en cuanto a su uso.\n",
        "\n",
        "Dora M. Gutiérrez;Juan A. Guardado(2010) _Formas de expresar la Composición Química en el SI_. Universidad Nacional Autónoma de México."
      ]
    },
    {
      "cell_type": "markdown",
      "metadata": {
        "id": "8IH7BwM__vkq"
      },
      "source": [
        "La mejor forma para analizar datos de forma simple es visualmente. Para fácilitar la comprensión de los datos utilizamos varios tipos de gráficas en las cuales fuimos mejorando la presentación de nuestros datos."
      ]
    },
    {
      "cell_type": "markdown",
      "metadata": {
        "id": "7PVrIKL5SuTv"
      },
      "source": [
        "#Gráficas"
      ]
    },
    {
      "cell_type": "code",
      "metadata": {
        "id": "67VxViixLuzI"
      },
      "source": [
        "import pandas as pd\n",
        "import matplotlib.pyplot as plt\n",
        "data=pd.read_csv(\"archivo02.csv\", sep=\",\", header=4, na_values=-99,index_col=0,parse_dates=True)\n",
        "print(data)\n"
      ],
      "execution_count": null,
      "outputs": []
    },
    {
      "cell_type": "code",
      "metadata": {
        "id": "JFvxxtT_7gc5"
      },
      "source": [
        "import pandas as pd\n",
        "\n",
        "import matplotlib.pyplot as plt\n",
        "data=pd.read_csv('archivo02.csv', sep=\",\", header=4 , na_values=-99)\n",
        "fig,ax = plt.subplots(1,1)\n",
        "\n",
        "fecha=pd.to_datetime(data['FECHA'])\n",
        "ax.plot(fecha,data[\"AJU\"],\"o\",label= \"AJU\", color=\"purple\")\n",
        "ax.plot(fecha,data[\"MGH\"],\"o\",label= \"MGH\", color=\"blue\")\n",
        "\n",
        "ax.set_ylabel(\"O3(ppb)\")\n",
        "ax.set_title(\"Fecha\")\n",
        "ax.set_xlim(fecha[0],fecha[998])\n",
        "\n",
        "ax.legend()\n",
        "fig.autofmt_xdate()"
      ],
      "execution_count": null,
      "outputs": []
    },
    {
      "cell_type": "code",
      "metadata": {
        "id": "i8B6_MnM_pGE"
      },
      "source": [
        "import pandas as pd\n",
        "\n",
        "import matplotlib.pyplot as plt\n",
        "data=pd.read_csv('archivo02.csv', sep=\",\", header=4 , na_values=-99)\n",
        "fig,ax = plt.subplots(1,1)\n",
        "ax.plot(pd.to_datetime(data['FECHA'][1710:1760]),data[\"AJU\"][1710:1760],\"o\",label= \"AJU\", color=\"purple\")\n",
        "ax.plot(pd.to_datetime(data['FECHA'][1710:1760]),data[\"MGH\"][1710:1760],\"o\",label= \"MGH\", color=\"blue\")\n",
        "\n",
        "ax.set_ylabel(\"O3(ppb)\")\n",
        "ax.set_title(\"Fecha\")\n",
        "ax.legend()\n",
        "fig.autofmt_xdate()"
      ],
      "execution_count": null,
      "outputs": []
    },
    {
      "cell_type": "code",
      "metadata": {
        "id": "w_eX0nv3OMuE"
      },
      "source": [
        "data[\"Año\"]=data.index.year\n",
        "data[\"Mes\"]=data.index.month\n",
        "data[\"Dia\"]=data.index.day\n",
        "\n",
        "data.sample(5,random_state=0)"
      ],
      "execution_count": null,
      "outputs": []
    },
    {
      "cell_type": "code",
      "metadata": {
        "id": "PUQNygqIIXn0"
      },
      "source": [
        "import matplotlib.pyplot as plt\n",
        "import seaborn as sns\n",
        "sns.set(rc={\"figure.figsize\":(20,4)})\n",
        "cols_plot = ['AJU', \"MGH\"]\n",
        "axes = data[cols_plot].plot(marker='.', alpha=0.5, linestyle='None', figsize=(11, 9), subplots=True)\n",
        "for ax in axes:\n",
        "    ax.set_ylabel('Ozono(ppb)')"
      ],
      "execution_count": null,
      "outputs": []
    },
    {
      "cell_type": "code",
      "metadata": {
        "id": "2dcHHcGoI3sH"
      },
      "source": [
        "import matplotlib.pyplot as plt\n",
        "import seaborn as sns\n",
        "sns.set(rc={\"figure.figsize\":(20,4)})\n",
        "ax=data.loc[\"2019-07\",\"AJU\"].plot(label=\"AJU\")\n",
        "ax=data.loc[\"2019-07\",\"MGH\"].plot(label=\"MGH\")\n",
        "ax.legend()\n",
        "ax.set_ylabel(\"Niveles de ozono(ppb)\")"
      ],
      "execution_count": null,
      "outputs": []
    },
    {
      "cell_type": "markdown",
      "metadata": {
        "id": "BHhJf0uqVJhO"
      },
      "source": [
        "La últimas gráficas con el comando seaborn así como los demás códigos fueron consultados en la página que aparece abajo, ya que por su practicidad se nos hicieron más cómodos utilizarlos\n",
        "\n",
        "Walker, J. (2020, 21 octubre). Tutorial: Time Series Analysis with Pandas. Dataquest. https://www.dataquest.io/blog/tutorial-time-series-analysis-with-pandas/\n"
      ]
    },
    {
      "cell_type": "markdown",
      "metadata": {
        "id": "TVKA24tQaBiW"
      },
      "source": [
        " 1. Observen la gráfica que obtuvieron anteriormente y analicen lo siguiente.\n",
        "    * ¿La variable dependiente es directamente proporcional al tiempo transcurrido, inversamente proporcional, o ninguna?\n",
        "    * ¿Observan algún ciclo?\n",
        "   \n",
        "    Podemos observar un comportamiento ciclico, ya que las partículas de ozono no aumentan con respecto al tiempo, esto se debe a que a pesar de que la variable es dependiente no es proporcional al tiempo, sino más bien a otras variables, tales como patrones de viento, temperatura y actividades humanas\n",
        "    "
      ]
    },
    {
      "cell_type": "markdown",
      "metadata": {
        "id": "cWaAlU6Azu0E"
      },
      "source": [
        "2. A partir de los metadatos, ¿pueden saber el lugar en donde se realizaron las mediciones? Al investigar sobre la Red automática de monitoreo atmosférico de la ciudad de México buscamos la ubicación de las estaciones con abreviatura AJU y MGH .Podemos ver que AJU es la abreviatura de la estación Ajusco ubicada en Tlalpan y MGH corresponde a la estación ubicada en la delegación Miguel Hidalgo.\n",
        "\n",
        "Estaciones de monitoreo. (2020). Calidad Del Aire de La Ciudad de México. http://www.aire.cdmx.gob.mx/default.php?opc=%27ZaBhnmI=&dc=%27ZA==\n",
        "\n",
        "\n",
        "¿Cuánto tiempo abarcan? Abarcan el monitoreo del año 2019"
      ]
    },
    {
      "cell_type": "markdown",
      "metadata": {
        "id": "zzLxsCeMkcVi"
      },
      "source": [
        "3. Analizando la dependencia entre las variables, las unidades de las mediciones, y el lugar de las mediciones ¿pueden pensar en algún fenómeno físico que se explique a partir de estos datos?\n",
        "\n",
        "En la concentración troposférica del ozono, que no es emitida de forma directa a la atmósfera, sino que más bien es el resultado de mecanismos fotoquímicos de una gran variedad de precursores naturales y antropogénicos, como los componentes orgánicos no volátiles (VOC) óxidos de carbono (CO_X) y oxidos de nitrogeno(No_x), que se generan por el escape de los choches y actividades industriales , las concentraciones en un lugar determinado depndene de la proximidad con grandes fuentes precursoras de ozono, las condiciones meteorologicas prevalentes, el intercambio estratosfera-troposfera y el transporte atmosférico de largo alcance, de acuerdo con la Agencia de Protección Ambiental, exposiones a niveles de ozono mayores a 70 ppb por un periodo de 8 horas o más es malo para la salud, en México el límite es a partir de las 95 ppb , después de estos niveles se declara una contingencia ambiental.\n",
        "Algunos de los efectos a las salud incluyen irritación de pulmón y garganta o agravación de padecimientos como asma y afisema.\n",
        "\n",
        "\n",
        "Silva-Quiroz, R., Rivera, A. L., Ordoñez, P., Gay-Garcia, C., & Frank, A. (2019). Atmospheric blockages as trigger of environmental contingencies in Mexico City. Heliyon, 5(7), e02099. https://doi.org/10.1016/j.heliyon.2019.e02099\n",
        "\n",
        "NASA. (2018, 18 octubre). Nasa Ozone Watch: Ozone facts. https://ozonewatch.gsfc.nasa.gov/facts/SH.html#:%7E:text=At%20that%20altitude%2C%20ozone%20concentration,of%2030%20and%2035%20kilometers.\n",
        "\n",
        "\n",
        "\n"
      ]
    },
    {
      "cell_type": "markdown",
      "metadata": {
        "id": "a53KcyG2QgMv"
      },
      "source": [
        "4.\tGrafiquen porciones más pequeñas de sus datos. Por ejemplo solo un día, o unas horas. ¿Ven un comportamiento distinto?\n",
        "\n",
        "Sí, varían los niveles de emisiones de ozono, aumentan a cierta hora del día, por ejemplo el 03/07/19  los niveles son menores al inicio del día, es aproximadamente a partir de las 6:00 AM que aumentan los niveles de ozono, pues la temperatura va en aumento por la radiación del sol; también influye el tráfico que mientras va atardeciendo aumenta por las actividades de la gente, hasta un periodo entre las 18:00 y 20:00, que es cuando empiezan a decrecer los niveles de ozono. Los niveles llegan a un número muy cercano a 70.\n",
        "Por otro lado si analizamos la gráfica 03/01/19 las emisiones se mantienen bajas desde las 12:00 a las 9:00 AM, que es cuando van en aumento hasta aproximadamente las 18:00 PM, que es cuando empieza a decrecer el nivel. Esto se puede deber a las bajas temperaturas de Enero, aunque en el pico de emisiones se llega a un nivel muy cercano a 80 ppb.\n"
      ]
    },
    {
      "cell_type": "code",
      "metadata": {
        "id": "3gt8PFCbYQ7j"
      },
      "source": [
        "import matplotlib.pyplot as plt\n",
        "import seaborn as sns\n",
        "sns.set(rc={\"figure.figsize\":(20,4)})\n",
        "ax=data.loc[\"2019-07-03\",\"AJU\"].plot(label=\"AJU\")\n",
        "ax=data.loc[\"2019-07-03\",\"MGH\"].plot(label=\"MGH\")\n",
        "ax.legend()\n",
        "ax.set_ylabel(\"Niveles de ozono(ppb)\")"
      ],
      "execution_count": null,
      "outputs": []
    },
    {
      "cell_type": "code",
      "metadata": {
        "id": "4iMsRoyGfC7X"
      },
      "source": [
        "import matplotlib.pyplot as plt\n",
        "import seaborn as sns\n",
        "sns.set(rc={\"figure.figsize\":(20,4)})\n",
        "ax=data.loc[\"2019-01-03\",\"AJU\"].plot(label=\"AJU\")\n",
        "ax=data.loc[\"2019-01-03\",\"MGH\"].plot(label=\"MGH\")\n",
        "ax.legend()\n",
        "ax.set_ylabel(\"Niveles de ozono(ppb)\")"
      ],
      "execution_count": null,
      "outputs": []
    },
    {
      "cell_type": "markdown",
      "metadata": {
        "id": "bZNnRKrdQoMt"
      },
      "source": [
        "5. Si hay más de una variable dependiente, comparen las dos variables dependientes (columnas 2 y 3 de sus datos). ¿Qué relación hay entre ellas?\n",
        "\n",
        "Ambas indican los niveles de ozono en diferentes periodos de tiempo, además de que se ubican en la CDMX\n",
        "\n",
        "¿Pueden explicar sus diferencias y similitudes con base en la información que tienen de cada columna?\n",
        "\n",
        "Sí, pues según el código, AJU no registra niveles en ciertos meses a ciertas horas, como en 19/06/19, 16/10/19 ó 10/01/19, ya que los registros son de -99. También hay fechas en las que ni AJU ni MGH registran el ozono. Sin embargo, suelen coincidir en el nivel de ozono, con pequeñas diferencias en los registros debido a la zona en que se ubican en diferentes estaciones.\n",
        "\n",
        "¿Qué pasa si comparas distintos periodos de tiempo dentro de la serie de datos?\n",
        "\n",
        "Resulta más notorio que la estación AJU no tiene registros en ciertas fechas. También podemos ver que los mayores niveles de ozono registrados se dan entre mayo y julio, un factor determinante es la alta temperatura en dichos meses, ya que actua como un catalizador para la formación de ozono y modifica la capa límite de la atmósfera y su interacción con la inversión térmica, ya que en los meses más cálidos es cuando la zona más baja de la troposfera se calienta y por lo tanto se hace más densa, lo que propicia la concentración de contaminantes en una menor área, y decrece en Diciembre y Enero, ya que al disminuir la temperatura el área que ocupa la capa límite de la atmósfera aumenta, ocasionando que los contaminantes se dispersen.\n",
        "\n",
        " Burgos, A. (2019, 28 mayo). ¿Por qué esta nube negra no se va? Las inversiones térmicas sobre el Valle de México. Nexos. https://labrujula.nexos.com.mx/?p=2363\n",
        "\n",
        "\n"
      ]
    },
    {
      "cell_type": "code",
      "metadata": {
        "id": "2j4eB5FZTUWJ"
      },
      "source": [
        "import matplotlib.pyplot as plt\n",
        "import seaborn as sns\n",
        "sns.set(rc={\"figure.figsize\":(20,4)})\n",
        "ax=data.loc[\"2019-01\":\"2019-07\",\"AJU\"].plot(label=\"AJU\")\n",
        "ax=data.loc[\"2019-01\":\"2019-07\",\"MGH\"].plot(label=\"MGH\")\n",
        "ax.legend()\n",
        "ax.set_ylabel(\"Niveles de ozono(ppb)\")\n",
        "fig.autofmt_xdate()"
      ],
      "execution_count": null,
      "outputs": []
    },
    {
      "cell_type": "markdown",
      "metadata": {
        "id": "z4n1eKBap-xT"
      },
      "source": [
        "6.-¿Con qué instrumentos fueron realizadas estas mediciones?\n",
        "\n",
        "Para realizar mediciones de O3 existen diversos métodos. A continuación presentamos unos de los más comunes.\n",
        "\n",
        "\n",
        "TÉCNICAS DE MEDICIÓN DE OZONO\n",
        "\n",
        "FOTÓMETROS SOLARES.El principio de medición de estos instrumentos se basa en la ley de absorción de Beer-Lambert que consiste en relacionar la intensidad de luz entrante en un medio con la intensidad saliente después de que en dicho medio se produzca absorción.El ozono presenta una fuerte absorción entre los 300nm y los 350nm (bandas de Huggings); por lo tanto, el espectrofotómetro de Dobson utiliza pares de longitudes de onda en esta franja del espectro. Para realizar la medición, este instrumento descompone la luz solar en su espectro mediante prismas monocromáticos, y mediante fotodetectores mide la intensidad de luz entre cada par de longitudes de onda.\n",
        "\n",
        "EL MÉTODO LIDAR (Light Detection And Ranging)\n",
        "Se puede determinar la densidad atmosférica a partir de la detección de luz dispersada de un haz de luz proyectado a la atmosfera.\n",
        "\n",
        "MÉTODO DE QUIMIOLUMINISCENCIA\n",
        "La quimioluminiscencia es una de las técnicas utilizada para la medida en continuo de ozono en aire ambiente. y se basa en la detección de fotones producidos en la reacción exotérmica entre Etileno (C2H4 ) y Ozono (03 ).\n",
        "\n",
        "MEDIDORES DE OZONO PASIVOS\n",
        "\n",
        "Los captadores pasivos para la recepción de gases se rigen por la Ley de Fick, la cual relaciona el flujo de un gas que difunde desde una región de alta concentración (extremo abierto del tubo), con el tiempo de exposición y elárea del captador, que está expuesto al contaminante.\n",
        "\n",
        "En 1991 desarrollan en la Universidad de Harvard, el captador pasivo para ozono \"Ogawa\", basado en la impregnación de los filtros captadores con una solución de iones Nitrito que al reaccionar con ozono se oxidan a ión Nitrato. La cantidad de ozono se obtiene al medir por cromatografía iónica el volumen de iones Nitrato. El captador pasivo Ogawa consta de un cuerpo polimérico cilíndrico (de 2 cm de diámetro x 3cm de longitud) y un broche dentado (4 x 3 cm). Tiene dos cavidades en los extremos del cilindro, cada una de las cuales custodia entre dos rejillas de acero inoxidable un filtro impregnado. Las cápsulas de difusi}ón cubren y fijan los filtros y las rejillas.\n",
        "\n",
        "Ospina Montoya, A., & Garrido Tamayo, M. Á. (2013, June 27). Técnicas de medición de ozono: Métodos tradicionales frente al método de cámara de absorción con led ultravioleta como fuente de luz. Revistas UNAL. https://revistas.unal.edu.co/index.php/gestion/article/download/39570/42036\n",
        "\n",
        "\n",
        "\n"
      ]
    },
    {
      "cell_type": "code",
      "metadata": {
        "id": "4Ixz5KMGQQ1R"
      },
      "source": [],
      "execution_count": null,
      "outputs": []
    }
  ]
}